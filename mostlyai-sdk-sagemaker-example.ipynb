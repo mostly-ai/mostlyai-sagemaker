{
 "cells": [
  {
   "cell_type": "markdown",
   "metadata": {},
   "source": [
    "# Deploy MOSTLY AI SDK Algorithm Model Package from AWS Marketplace"
   ]
  },
  {
   "attachments": {},
   "cell_type": "markdown",
   "metadata": {},
   "source": [
    "---\n",
    "\n",
    "This notebook's CI test result for us-west-2 is as follows. CI test results in other regions can be found at the end of the notebook. \n",
    "\n",
    "\n",
    "\n",
    "---"
   ]
  },
  {
   "cell_type": "markdown",
   "metadata": {},
   "source": [
    "\n",
    "\n",
    "The MostlyAI Synthetic Data Generator is a powerful tool that enables you to create high-quality synthetic data while preserving the statistical properties and relationships of your original data. This synthetic data generation process ensures privacy compliance while maintaining data utility for various use cases including testing, development, and machine learning model training.\n",
    "\n",
    "\n",
    "> **Note**: This is a reference notebook and it cannot run unless you make changes suggested in the notebook.\n",
    "\n",
    "## Pre-requisites:\n",
    "1. **Note**: This notebook contains elements which render correctly in Jupyter interface. Open this notebook from an Amazon SageMaker Notebook Instance or Amazon SageMaker Studio.\n",
    "1. Ensure that IAM role used has **AmazonSageMakerFullAccess**\n",
    "1. To deploy this ML model successfully, ensure that:\n",
    "    1. Either your IAM role has these three permissions and you have authority to make AWS Marketplace subscriptions in the AWS account used: \n",
    "        1. **aws-marketplace:ViewSubscriptions**\n",
    "        1. **aws-marketplace:Unsubscribe**\n",
    "        1. **aws-marketplace:Subscribe**  \n",
    "    2. or your AWS account has a subscription to MOSTLY AI SDK Algorithm. If so, skip step: [Subscribe to the model package](#1.-Subscribe-to-the-model-package)\n",
    "\n",
    "## Contents:\n",
    "1. [Subscribe to the model package](#1.-Subscribe-to-the-model-package)\n",
    "2. [Create an endpoint and perform real-time inference](#2.-Create-an-endpoint-and-perform-real-time-inference)\n",
    "   1. [Create an endpoint](#A.-Create-an-endpoint)\n",
    "   2. [Create input payload](#B.-Create-input-payload)\n",
    "   3. [Perform real-time inference](#C.-Perform-real-time-inference)\n",
    "   4. [Visualize output](#D.-Visualize-output)\n",
    "   5. [Delete the endpoint](#E.-Delete-the-endpoint)\n",
    "3. [Perform batch inference](#3.-Perform-batch-inference) \n",
    "4. [Clean-up](#4.-Clean-up)\n",
    "    1. [Delete the model](#A.-Delete-the-model)\n",
    "    2. [Unsubscribe to the listing (optional)](#B.-Unsubscribe-to-the-listing-(optional))\n",
    "    \n",
    "\n",
    "## Usage instructions\n",
    "You can run this notebook one cell at a time (By using Shift+Enter for running a cell)."
   ]
  },
  {
   "cell_type": "markdown",
   "metadata": {},
   "source": [
    "## 1. Subscribe to the model package"
   ]
  },
  {
   "cell_type": "markdown",
   "metadata": {},
   "source": [
    "To subscribe to the model package:\n",
    "1. Open the model package listing page <font color='red'> MOSTLY AI SDK Algorithm(Provide link to your marketplace listing of your product).</font>\n",
    "1. On the AWS Marketplace listing, click on the **Continue to subscribe** button.\n",
    "1. On the **Subscribe to this software** page, review and click on **\"Accept Offer\"** if you and your organization agrees with EULA, pricing, and support terms. \n",
    "1. Once you click on **Continue to configuration button** and then choose a **region**, you will see a **Product Arn** displayed. This is the model package ARN that you need to specify while creating a deployable model using Boto3. Copy the ARN corresponding to your region and specify the same in the following cell."
   ]
  },
  {
   "cell_type": "code",
   "execution_count": null,
   "metadata": {},
   "outputs": [],
   "source": [
    "import base64\n",
    "import json\n",
    "import uuid\n",
    "import sagemaker as sage\n",
    "from sagemaker import get_execution_role\n",
    "from sagemaker import ModelPackage\n",
    "import boto3\n",
    "from IPython.display import Image\n",
    "from PIL import Image as ImageEdit\n",
    "from urllib.parse import urlparse\n",
    "import pandas as pd\n",
    "from sagemaker.algorithm import AlgorithmEstimator\n",
    "from sagemaker.inputs import TrainingInput\n",
    "import time"
   ]
  },
  {
   "cell_type": "code",
   "execution_count": null,
   "metadata": {},
   "outputs": [],
   "source": [
    "role = get_execution_role()\n",
    "\n",
    "sagemaker_session = sage.Session()\n",
    "\n",
    "region = sagemaker_session.boto_region_name\n",
    "\n",
    "bucket = sagemaker_session.default_bucket()\n",
    "runtime = boto3.client(\"runtime.sagemaker\")\n",
    "bucket"
   ]
  },
  {
   "cell_type": "code",
   "execution_count": null,
   "metadata": {},
   "outputs": [],
   "source": [
    "# MOSTLY AI SDK Algorithm\n",
    "algorithm_arn = f\"arn:aws:sagemaker:{region}:446921602837:algorithm/mostlyai-sdk-sagemaker-cpu-87738f64e93b3f59aa191d36e4fb5ed0\"\n"
   ]
  },
  {
   "cell_type": "code",
   "execution_count": null,
   "metadata": {},
   "outputs": [],
   "source": [
    "\n",
    "# Define the S3 URI to your training data\n",
    "input_data_uri = \"s3://testbucketuser-bucket/sagemaker-tests/train/\"  \n",
    "\n",
    "# Initialize the AlgorithmEstimator\n",
    "estimator = AlgorithmEstimator(\n",
    "    algorithm_arn=algorithm_arn,\n",
    "    role=role,\n",
    "    instance_count=1,\n",
    "    instance_type=\"ml.c5.4xlarge\",  # Or another instance type supported by your algorithm\n",
    "    input_mode=\"File\",\n",
    "    sagemaker_session=sagemaker_session,\n",
    ")\n",
    "\n",
    "# Optional: set hyperparameters if your algorithm requires any\n",
    "estimator.set_hyperparameters(**{\n",
    "     \"configFile\": \"generator.json\",\n",
    "     \"generatorFile\": \"generator.zip\"\n",
    " })\n",
    "\n",
    "# Define the training input\n",
    "train_input = TrainingInput(\n",
    "    s3_data=input_data_uri,\n",
    "    content_type=\"text/csv\",  # Adjust to what your algorithm expects\n",
    ")\n",
    "\n",
    "# Start the training job\n",
    "time_postfix = f\"{int(time.time())}\"\n",
    "job_name = f\"mostlyai-sdk-training-example-{time_postfix}\"\n",
    "estimator.fit({\"train\": train_input}, job_name=job_name)\n",
    "\n",
    "model_name = f\"mostlyai-sdk-model-example-{time_postfix}\"\n",
    "\n",
    "model = estimator.create_model(name=model_name)\n"
   ]
  },
  {
   "cell_type": "markdown",
   "metadata": {},
   "source": [
    "## 3. Create an endpoint and perform real-time inference"
   ]
  },
  {
   "cell_type": "markdown",
   "metadata": {},
   "source": [
    "If you want to understand how real-time inference with Amazon SageMaker works, see [Documentation](https://docs.aws.amazon.com/sagemaker/latest/dg/how-it-works-hosting.html)."
   ]
  },
  {
   "cell_type": "markdown",
   "metadata": {},
   "source": [
    "### A. Create an endpoint"
   ]
  },
  {
   "cell_type": "code",
   "execution_count": null,
   "metadata": {},
   "outputs": [],
   "source": [
    "# create a deployable model \n",
    "endpoint_name = f\"mostlyai-sdk-endpoint-example-{time_postfix}\"\n",
    "\n",
    "predictor = model.deploy(\n",
    "    initial_instance_count=1,\n",
    "    instance_type=\"ml.c5.4xlarge\",\n",
    "    endpoint_name=endpoint_name\n",
    ")\n"
   ]
  },
  {
   "cell_type": "markdown",
   "metadata": {},
   "source": [
    "Once endpoint has been created, you would be able to perform real-time inference."
   ]
  },
  {
   "cell_type": "markdown",
   "metadata": {},
   "source": [
    "<Add code snippet that shows the payload contents>"
   ]
  },
  {
   "cell_type": "markdown",
   "metadata": {},
   "source": [
    "### B. Perform real-time inference"
   ]
  },
  {
   "cell_type": "code",
   "execution_count": null,
   "metadata": {},
   "outputs": [],
   "source": [
    "# Path to your JSON file\n",
    "config_path = \"inference_config.json\"\n",
    "\n",
    "# Read and parse the JSON\n",
    "with open(config_path, \"r\") as f:\n",
    "    inference_config = json.load(f)\n",
    "\n",
    "# Print or use the loaded config\n",
    "print(inference_config)"
   ]
  },
  {
   "cell_type": "code",
   "execution_count": null,
   "metadata": {},
   "outputs": [],
   "source": [
    "# Set appropriate content type — adjust if needed\n",
    "predictor.content_type = \"application/json\"\n",
    "\n",
    "# Convert the inference_config dict to JSON string\n",
    "payload = json.dumps(inference_config)\n",
    "\n",
    "# Make the prediction call\n",
    "response_str = predictor.predict(payload)\n",
    "response = json.loads(response_str)\n",
    "\n",
    "# Print the response\n",
    "print(response)"
   ]
  },
  {
   "cell_type": "markdown",
   "metadata": {},
   "source": [
    "### C. Visualize output"
   ]
  },
  {
   "cell_type": "code",
   "execution_count": null,
   "metadata": {},
   "outputs": [],
   "source": [
    "def visualize_output(response):\n",
    "    message = response.get(\"message\")\n",
    "    print(f\"📌 Message: {message}\")\n",
    "    result = response.get(\"result\", {})\n",
    "    if not result:\n",
    "        print(\"No 'result' key found or it's empty.\")\n",
    "    else:\n",
    "        for key, records in result.items():\n",
    "            print(f\"📌 Table: {key}\")\n",
    "            try:\n",
    "                df = pd.DataFrame(records)\n",
    "                display(df)\n",
    "            except Exception as e:\n",
    "                print(f\"Could not display table for '{key}': {e}\")\n",
    "\n",
    "# Visualize each item under 'result' as a separate table\n",
    "visualize_output(response)"
   ]
  },
  {
   "cell_type": "markdown",
   "metadata": {},
   "source": [
    "### D. Delete the endpoint"
   ]
  },
  {
   "cell_type": "markdown",
   "metadata": {},
   "source": [
    "Now that you have successfully performed a real-time inference, you do not need the endpoint any more. You can terminate the endpoint to avoid being charged."
   ]
  },
  {
   "cell_type": "code",
   "execution_count": null,
   "metadata": {},
   "outputs": [],
   "source": [
    "model.sagemaker_session.delete_endpoint_config(endpoint_name)"
   ]
  },
  {
   "cell_type": "markdown",
   "metadata": {},
   "source": [
    "## 3. Perform batch inference"
   ]
  },
  {
   "cell_type": "markdown",
   "metadata": {},
   "source": [
    "In this section, you will perform batch inference using multiple input payloads together. If you are not familiar with batch transform, and want to learn more, see these links:\n",
    "1. [How it works](https://docs.aws.amazon.com/sagemaker/latest/dg/ex1-batch-transform.html)\n",
    "2. [How to run a batch transform job](https://docs.aws.amazon.com/sagemaker/latest/dg/how-it-works-batch.html)"
   ]
  },
  {
   "cell_type": "code",
   "execution_count": null,
   "metadata": {},
   "outputs": [],
   "source": [
    "# Run the batch-transform job\n",
    "batch_job_name = f\"mostlyai-sdk-batchjob-example-{time_postfix}\"\n",
    "\n",
    "s3 = boto3.client(\"s3\")\n",
    "output_s3 = f\"batch-output/{time_postfix}/\"\n",
    "s3.put_object(Bucket=bucket, Key=output_s3)\n",
    "\n",
    "transformer = model.transformer(1, \"ml.c5.4xlarge\", output_path=f\"s3://{bucket}/{output_s3}\")\n",
    "transformer.transform(\"s3://testbucketuser-bucket/sagemaker-tests/inference/\", content_type=\"application/json\",job_name=batch_job_name)\n",
    "transformer.wait()"
   ]
  },
  {
   "cell_type": "code",
   "execution_count": null,
   "metadata": {},
   "outputs": [],
   "source": [
    "# output is available on following path\n",
    "output_path = transformer.output_path\n",
    "\n",
    "# Parse the S3 path\n",
    "parsed = urlparse(output_path)\n",
    "bucket_name = parsed.netloc\n",
    "key = parsed.path.lstrip(\"/\")\n",
    "\n",
    "# Download the file content\n",
    "s3 = boto3.client(\"s3\")\n",
    "response_obj = s3.get_object(Bucket=bucket_name, Key=key + \"inference_config.json.out\")\n",
    "response_body = response_obj[\"Body\"].read().decode(\"utf-8\")\n",
    "\n",
    "# Parse JSON content\n",
    "batch_response = json.loads(response_body)\n",
    "\n",
    "visualize_output(batch_response)"
   ]
  },
  {
   "cell_type": "markdown",
   "metadata": {},
   "source": [
    "## 4. Clean-up"
   ]
  },
  {
   "cell_type": "markdown",
   "metadata": {},
   "source": [
    "### A. Delete the endpoint and the model"
   ]
  },
  {
   "cell_type": "code",
   "execution_count": null,
   "metadata": {},
   "outputs": [],
   "source": [
    "sagemaker_session.delete_endpoint(endpoint_name)\n",
    "model.delete_model()"
   ]
  },
  {
   "cell_type": "markdown",
   "metadata": {},
   "source": [
    "### B. Unsubscribe to the listing (optional)"
   ]
  },
  {
   "cell_type": "markdown",
   "metadata": {},
   "source": [
    "If you would like to unsubscribe to the model package, follow these steps. Before you cancel the subscription, ensure that you do not have any [deployable model](https://console.aws.amazon.com/sagemaker/home#/models) created from the model package or using the algorithm. Note - You can find this information by looking at the container name associated with the model. \n",
    "\n",
    "**Steps to unsubscribe to product from AWS Marketplace**:\n",
    "1. Navigate to __Machine Learning__ tab on [__Your Software subscriptions page__](https://aws.amazon.com/marketplace/ai/library?productType=ml&ref_=mlmp_gitdemo_indust)\n",
    "2. Locate the listing that you want to cancel the subscription for, and then choose __Cancel Subscription__  to cancel the subscription.\n",
    "\n"
   ]
  }
 ],
 "metadata": {
  "instance_type": "ml.t3.medium",
  "kernelspec": {
   "display_name": "Python 3 (ipykernel)",
   "language": "python",
   "name": "python3"
  },
  "language_info": {
   "codemirror_mode": {
    "name": "ipython",
    "version": 3
   },
   "file_extension": ".py",
   "mimetype": "text/x-python",
   "name": "python",
   "nbconvert_exporter": "python",
   "pygments_lexer": "ipython3",
   "version": "3.11.11"
  }
 },
 "nbformat": 4,
 "nbformat_minor": 4
}
